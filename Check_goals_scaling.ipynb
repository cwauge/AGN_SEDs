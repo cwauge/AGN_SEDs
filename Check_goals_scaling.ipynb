{
 "cells": [
  {
   "cell_type": "code",
   "execution_count": 81,
   "id": "4e1cd063",
   "metadata": {},
   "outputs": [],
   "source": [
    "import numpy as np\n",
    "from astropy.io import fits\n",
    "from astropy.io import ascii \n",
    "from match import match\n",
    "from SED_v8 import Flux_to_Lum"
   ]
  },
  {
   "cell_type": "code",
   "execution_count": 82,
   "id": "406c568c",
   "metadata": {},
   "outputs": [],
   "source": [
    "with fits.open('/Users/connor_auge/Research/Disertation/catalogs/U2012_GOALS.fits') as hdul:\n",
    "    data = hdul[1].data\n",
    "    cols = hdul[1].columns\n",
    "    \n",
    "table1 = ascii.read('/Users/connor_auge/Downloads/U_table1_ascii.csv')\n",
    "\n",
    "table10 = ascii.read('/Users/connor_auge/Downloads/U_table10_ascii.csv')"
   ]
  },
  {
   "cell_type": "code",
   "execution_count": 83,
   "id": "4f2995eb",
   "metadata": {},
   "outputs": [],
   "source": [
    "phot_ID = data['ID']\n",
    "phot_H = data['H']\n",
    "\n",
    "dist_ID = np.asarray(table1['RBGS Name'])\n",
    "dist = np.asarray(table1['D_L'])\n",
    "Lir = np.asarray(table1['log(L_IR)_IRAS'])\n",
    "\n",
    "ix, iy = match(phot_ID, dist_ID)\n",
    "phot_ID_match = phot_ID[ix]\n",
    "H_match = phot_H[ix]\n",
    "dist_match = dist[iy]\n",
    "dist_ID_match = dist_ID[iy]\n",
    "Lir_match = Lir[iy]\n",
    "\n",
    "mass_ID = np.asarray(table10['RBGS Name'])\n",
    "mass = np.asarray(table10['log (M_H)_Sal'])"
   ]
  },
  {
   "cell_type": "code",
   "execution_count": 90,
   "id": "530bc4b2",
   "metadata": {},
   "outputs": [],
   "source": [
    "Fnu = H_match*1E-23\n",
    "nu = 10**14.26\n",
    "# nu = 3E10/1.65E-4\n",
    "nuFnu = Fnu*nu\n",
    "\n",
    "L_ulirg = Flux_to_Lum(nuFnu[Lir_match > 12],z=0,d=dist_match[Lir_match > 12]*1E6,distance=True)\n",
    "L = Flux_to_Lum(nuFnu,z=0,d=dist_match*1E6,distance=True)\n",
    "L_solar = np.log10(L) - np.log10(3.8E33)"
   ]
  },
  {
   "cell_type": "code",
   "execution_count": 91,
   "id": "95f0ffb3",
   "metadata": {},
   "outputs": [
    {
     "data": {
      "text/plain": [
       "10.711213604215061"
      ]
     },
     "execution_count": 91,
     "metadata": {},
     "output_type": "execute_result"
    }
   ],
   "source": [
    "np.median(np.log10(L_ulirg)) - np.log10(3.8E33)"
   ]
  },
  {
   "cell_type": "code",
   "execution_count": 74,
   "id": "9891ad98",
   "metadata": {},
   "outputs": [],
   "source": [
    "ix, iy = match(phot_ID_match, mass_ID)\n",
    "phot_ID_match2 = phot_ID_match[ix]\n",
    "L_solar_match = L_solar[ix]\n",
    "mass_ID_match = mass_ID[iy]\n",
    "mass_match = mass[iy]"
   ]
  },
  {
   "cell_type": "code",
   "execution_count": 75,
   "id": "d5874a99",
   "metadata": {},
   "outputs": [
    {
     "data": {
      "text/plain": [
       "array([10.57635136,  9.84789886, 10.54817135, 10.23806644, 10.38614626,\n",
       "       10.44690599, 10.5886743 , 10.64835827,  9.95308087, 10.60494372,\n",
       "       10.08063334, 10.26282221, 10.12222677, 10.72585326, 10.12531982,\n",
       "       10.13097653, 10.7112136 , 10.59492291,  9.76020405, 10.8282311 ,\n",
       "       10.42220046, 10.69129726, 10.54094959, 10.68174903, 10.57412811,\n",
       "       10.39320357, 10.42254418, 10.62047338, 10.81952709, 10.93906249,\n",
       "       10.48986292, 10.31756083, 10.61650588, 10.6544102 , 10.81984169,\n",
       "       10.62537177, 10.7448118 , 10.99881074, 10.37937957, 10.85807528,\n",
       "       10.37618348, 10.79864876, 10.74358868, 11.38427139, 10.42590017,\n",
       "       10.7637564 , 10.59022034, 10.67623181])"
      ]
     },
     "execution_count": 75,
     "metadata": {},
     "output_type": "execute_result"
    }
   ],
   "source": [
    "L_solar"
   ]
  },
  {
   "cell_type": "code",
   "execution_count": 76,
   "id": "80879fda",
   "metadata": {},
   "outputs": [
    {
     "data": {
      "text/plain": [
       "11"
      ]
     },
     "execution_count": 76,
     "metadata": {},
     "output_type": "execute_result"
    }
   ],
   "source": [
    "len(mass_ID_match)"
   ]
  },
  {
   "cell_type": "code",
   "execution_count": 77,
   "id": "aaea74ad",
   "metadata": {},
   "outputs": [
    {
     "data": {
      "text/plain": [
       "array([10.58, 10.84, 11.03, 11.14, 10.63, 10.47, 10.83, 10.97, 10.81,\n",
       "       10.97, 11.17])"
      ]
     },
     "execution_count": 77,
     "metadata": {},
     "output_type": "execute_result"
    }
   ],
   "source": [
    "mass_match"
   ]
  },
  {
   "cell_type": "code",
   "execution_count": 79,
   "id": "18b8e010",
   "metadata": {},
   "outputs": [
    {
     "data": {
      "text/plain": [
       "array([1.01510723, 1.02067013, 1.01945306, 1.01836881, 1.01335929,\n",
       "       1.01477473, 1.02010964, 1.01387805, 1.01737617, 1.02095785,\n",
       "       1.01556434])"
      ]
     },
     "execution_count": 79,
     "metadata": {},
     "output_type": "execute_result"
    }
   ],
   "source": [
    "(mass_match)/(L_solar_match)"
   ]
  },
  {
   "cell_type": "code",
   "execution_count": 80,
   "id": "20df6e80",
   "metadata": {},
   "outputs": [
    {
     "data": {
      "text/plain": [
       "1.017376166306386"
      ]
     },
     "execution_count": 80,
     "metadata": {},
     "output_type": "execute_result"
    }
   ],
   "source": [
    "np.nanmedian(mass_match/L_solar_match)"
   ]
  },
  {
   "cell_type": "code",
   "execution_count": null,
   "id": "0eb03d08",
   "metadata": {},
   "outputs": [],
   "source": []
  }
 ],
 "metadata": {
  "kernelspec": {
   "display_name": "py39",
   "language": "python",
   "name": "py39"
  },
  "language_info": {
   "codemirror_mode": {
    "name": "ipython",
    "version": 3
   },
   "file_extension": ".py",
   "mimetype": "text/x-python",
   "name": "python",
   "nbconvert_exporter": "python",
   "pygments_lexer": "ipython3",
   "version": "3.9.12"
  }
 },
 "nbformat": 4,
 "nbformat_minor": 5
}
