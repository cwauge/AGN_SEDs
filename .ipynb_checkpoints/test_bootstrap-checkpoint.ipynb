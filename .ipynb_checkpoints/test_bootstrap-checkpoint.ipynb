{
 "cells": [
  {
   "cell_type": "code",
   "execution_count": 138,
   "id": "51f2baaf",
   "metadata": {},
   "outputs": [],
   "source": [
    "import numpy as np\n",
    "import matplotlib.pyplot as plt\n",
    "from bootstrap_err import BootStrap"
   ]
  },
  {
   "cell_type": "code",
   "execution_count": 6,
   "id": "41e7cfe3",
   "metadata": {},
   "outputs": [
    {
     "data": {
      "text/plain": [
       "array([51, 92, 14, 71, 60, 20, 82, 86, 74, 74, 87, 99, 23,  2, 21, 52,  1,\n",
       "       87, 29, 37,  1, 63, 59, 20, 32, 75, 57, 21, 88, 48, 90, 58, 41, 91,\n",
       "       59, 79, 14, 61, 61, 46, 61, 50, 54, 63,  2, 50,  6, 20, 72, 38, 17,\n",
       "        3, 88, 59, 13,  8, 89, 52,  1, 83, 91, 59, 70, 43,  7, 46, 34, 77,\n",
       "       80, 35, 49,  3,  1,  5, 53,  3, 53, 92, 62, 17, 89, 43, 33, 73, 61,\n",
       "       99, 13, 94, 47, 14, 71, 77, 86, 61, 39, 84, 79, 81, 52, 23])"
      ]
     },
     "execution_count": 6,
     "metadata": {},
     "output_type": "execute_result"
    }
   ],
   "source": [
    "# construct a population of size 100\n",
    "np.random.seed(42)\n",
    "population = np.random.randint(0,100 , size=100)\n",
    "population"
   ]
  },
  {
   "cell_type": "code",
   "execution_count": 7,
   "id": "7fb62a63",
   "metadata": {},
   "outputs": [
    {
     "data": {
      "text/plain": [
       "50.54"
      ]
     },
     "execution_count": 7,
     "metadata": {},
     "output_type": "execute_result"
    }
   ],
   "source": [
    "population.mean()"
   ]
  },
  {
   "cell_type": "code",
   "execution_count": 8,
   "id": "bc99c9bd",
   "metadata": {},
   "outputs": [
    {
     "data": {
      "text/plain": [
       "29.278463074417004"
      ]
     },
     "execution_count": 8,
     "metadata": {},
     "output_type": "execute_result"
    }
   ],
   "source": [
    "population.std()"
   ]
  },
  {
   "cell_type": "code",
   "execution_count": 5,
   "id": "3eeeb9c6",
   "metadata": {},
   "outputs": [
    {
     "data": {
      "text/plain": [
       "array([75, 47, 83, 61, 88, 21,  2,  7, 47, 49, 74, 94, 51, 86, 94, 70, 87,\n",
       "       89, 86, 59, 59, 41, 60, 61, 21, 82,  1,  3, 99, 91])"
      ]
     },
     "execution_count": 5,
     "metadata": {},
     "output_type": "execute_result"
    }
   ],
   "source": [
    "# draw a sample of size 30 from population\n",
    "sample = np.random.choice(population, size=30)\n",
    "sample"
   ]
  },
  {
   "cell_type": "code",
   "execution_count": 9,
   "id": "aac0cf62",
   "metadata": {},
   "outputs": [
    {
     "data": {
      "text/plain": [
       "59.6"
      ]
     },
     "execution_count": 9,
     "metadata": {},
     "output_type": "execute_result"
    }
   ],
   "source": [
    "# our first sample mean\n",
    "sample_mean = sample.mean()\n",
    "sample_mean"
   ]
  },
  {
   "cell_type": "code",
   "execution_count": 10,
   "id": "2a198e3d",
   "metadata": {},
   "outputs": [
    {
     "data": {
      "text/plain": [
       "30.444522750689348"
      ]
     },
     "execution_count": 10,
     "metadata": {},
     "output_type": "execute_result"
    }
   ],
   "source": [
    "# standard deiveation for this sample\n",
    "sample_std = np.std(sample, ddof=1)\n",
    "sample_std"
   ]
  },
  {
   "cell_type": "code",
   "execution_count": 11,
   "id": "ce5f61ee",
   "metadata": {},
   "outputs": [
    {
     "data": {
      "text/plain": [
       "5.558383954343928"
      ]
     },
     "execution_count": 11,
     "metadata": {},
     "output_type": "execute_result"
    }
   ],
   "source": [
    "# estimated standard error for the sapmle mann\n",
    "sample_std/(30 ** 0.5)"
   ]
  },
  {
   "cell_type": "code",
   "execution_count": 12,
   "id": "a1626822",
   "metadata": {},
   "outputs": [
    {
     "data": {
      "text/plain": [
       "5.345491558313417"
      ]
     },
     "execution_count": 12,
     "metadata": {},
     "output_type": "execute_result"
    }
   ],
   "source": [
    "# theorical standard error for sapmle mann\n",
    "population.std()/(30 ** 0.5)"
   ]
  },
  {
   "cell_type": "code",
   "execution_count": 13,
   "id": "d0bb30ae",
   "metadata": {},
   "outputs": [],
   "source": [
    "# bootstrap resampling from empirical CDF. Since each step of our empirical CDF is identical (1/n), \n",
    "# sampling from the empirical CDF is the same as re-sampling (with replacement and equal probabilities) \n",
    "# from the sample.\n",
    "boot_means = []\n",
    "for _ in range(10000):\n",
    "    bootsample = np.random.choice(sample,size=30, replace=True)\n",
    "    boot_means.append(bootsample.mean())"
   ]
  },
  {
   "cell_type": "code",
   "execution_count": 14,
   "id": "a1cbf3ae",
   "metadata": {},
   "outputs": [],
   "source": [
    "# simulated mean of mean\n",
    "bootmean = np.mean(boot_means)"
   ]
  },
  {
   "cell_type": "code",
   "execution_count": 15,
   "id": "fbeed78b",
   "metadata": {},
   "outputs": [],
   "source": [
    "# simulated standard deviation of mean\n",
    "bootmean_std = np.std(boot_means)"
   ]
  },
  {
   "cell_type": "code",
   "execution_count": 16,
   "id": "327057c5",
   "metadata": {},
   "outputs": [
    {
     "data": {
      "text/plain": [
       "(50.54, 59.65953666666667)"
      ]
     },
     "execution_count": 16,
     "metadata": {},
     "output_type": "execute_result"
    }
   ],
   "source": [
    "# simulated mean VS true mean\n",
    "(population.mean(), bootmean)"
   ]
  },
  {
   "cell_type": "code",
   "execution_count": 17,
   "id": "fc43c3e2",
   "metadata": {},
   "outputs": [
    {
     "data": {
      "text/plain": [
       "(5.345491558313417, 5.472646906488669)"
      ]
     },
     "execution_count": 17,
     "metadata": {},
     "output_type": "execute_result"
    }
   ],
   "source": [
    "# the theorical standard error and simulated standard error\n",
    "(population.std()/(30 ** 0.5), bootmean_std)"
   ]
  },
  {
   "cell_type": "code",
   "execution_count": null,
   "id": "6e147407",
   "metadata": {},
   "outputs": [],
   "source": []
  },
  {
   "cell_type": "code",
   "execution_count": null,
   "id": "e276bdad",
   "metadata": {},
   "outputs": [],
   "source": []
  },
  {
   "cell_type": "code",
   "execution_count": null,
   "id": "3dbaa728",
   "metadata": {},
   "outputs": [],
   "source": []
  },
  {
   "cell_type": "code",
   "execution_count": null,
   "id": "3e212e99",
   "metadata": {},
   "outputs": [],
   "source": []
  },
  {
   "cell_type": "code",
   "execution_count": null,
   "id": "4f902a3d",
   "metadata": {},
   "outputs": [],
   "source": []
  },
  {
   "cell_type": "code",
   "execution_count": 125,
   "id": "5f9ed29c",
   "metadata": {},
   "outputs": [],
   "source": [
    "x = np.random.normal(1, 2, 100)\n",
    "y = (0.5*x + 10)+np.random.normal(0, 0.25, 100)\n",
    "x_outliers = np.random.normal(1,2,5)\n",
    "y_outliers = (0.5*x_outliers + 10)+np.random.normal(0, 5, 5)\n",
    "\n",
    "x = np.append(x, x_outliers)\n",
    "y = np.append(y, y_outliers)\n",
    "\n",
    "x_err = abs(np.random.normal(0, 0.25, 100))\n",
    "y_err = abs(np.random.normal(0, 0.25, 100))\n",
    "y_outlier_err = abs(np.random.normal(0, 3, 5))\n",
    "y_err = np.append(y_err, y_outlier_err)\n",
    "\n",
    "x_line = np.arange(-4,6)\n",
    "y_line = 0.5*x_line +10\n",
    "\n",
    "z = np.polyfit(x,y,1)\n",
    "p = np.poly1d(z)\n",
    "\n",
    "x_fit = np.arange(-4,6)\n",
    "y_fit = p(x_fit)"
   ]
  },
  {
   "cell_type": "code",
   "execution_count": 135,
   "id": "290393c2",
   "metadata": {},
   "outputs": [],
   "source": [
    "boot_data = boot_strap(y,y_err)"
   ]
  },
  {
   "cell_type": "code",
   "execution_count": 137,
   "id": "303d311b",
   "metadata": {},
   "outputs": [
    {
     "data": {
      "image/png": "[encoded data removed]",
      "text/plain": [
       "<Figure size 576x576 with 1 Axes>"
      ]
     },
     "metadata": {},
     "output_type": "display_data"
    }
   ],
   "source": [
    "plt.figure(facecolor='w',figsize=(8,8))\n",
    "plt.plot(x_line,y_line,c='k',label='actual line')\n",
    "plt.plot(x,y,'.',label='data')\n",
    "plt.errorbar(x,y,yerr=y_err,c='gray',fmt='None')\n",
    "plt.plot(x_fit,y_fit,c='orange',label='fit line')\n",
    "plt.plot(x,boot_data,'.',c='r')\n",
    "plt.legend()\n",
    "plt.show()\n"
   ]
  },
  {
   "cell_type": "code",
   "execution_count": null,
   "id": "fd9b74b2",
   "metadata": {},
   "outputs": [],
   "source": [
    "boot = BootStrap(x,y,x_err,y_err,10)"
   ]
  },
  {
   "cell_type": "code",
   "execution_count": null,
   "id": "4441217e",
   "metadata": {},
   "outputs": [],
   "source": []
  },
  {
   "cell_type": "code",
   "execution_count": null,
   "id": "cd59c90d",
   "metadata": {},
   "outputs": [],
   "source": []
  },
  {
   "cell_type": "code",
   "execution_count": 129,
   "id": "0ccfa271",
   "metadata": {},
   "outputs": [],
   "source": [
    "def boot_strap(data, data_err):\n",
    "    boot_data = np.random.normal(data,data_err,len(data))\n",
    "    \n",
    "    return boot_data\n",
    "    "
   ]
  },
  {
   "cell_type": "code",
   "execution_count": null,
   "id": "05258349",
   "metadata": {},
   "outputs": [],
   "source": []
  }
 ],
 "metadata": {
  "kernelspec": {
   "display_name": "py39",
   "language": "python",
   "name": "py39"
  },
  "language_info": {
   "codemirror_mode": {
    "name": "ipython",
    "version": 3
   },
   "file_extension": ".py",
   "mimetype": "text/x-python",
   "name": "python",
   "nbconvert_exporter": "python",
   "pygments_lexer": "ipython3",
   "version": "3.9.12"
  }
 },
 "nbformat": 4,
 "nbformat_minor": 5
}
