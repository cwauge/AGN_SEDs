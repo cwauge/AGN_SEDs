{
 "cells": [
  {
   "cell_type": "code",
   "execution_count": 9,
   "metadata": {},
   "outputs": [],
   "source": [
    "import numpy as np\n",
    "from SED_v8 import AGN\n",
    "from SED_plots_v2 import Plotter\n",
    "from filters import Filters\n",
    "from astropy.io import fits\n",
    "from astropy.io import ascii"
   ]
  },
  {
   "cell_type": "code",
   "execution_count": 10,
   "metadata": {},
   "outputs": [],
   "source": [
    "ned_data = ascii.read('/Users/connor_auge/Downloads/IRAS09104_4109.csv')"
   ]
  },
  {
   "cell_type": "code",
   "execution_count": 11,
   "metadata": {},
   "outputs": [],
   "source": [
    "flux_values = ned_data['Flux Density']\n",
    "flux_values_array = np.array([flux_values,flux_values,flux_values,flux_values,flux_values,flux_values,flux_values,flux_values]).T\n",
    "\n",
    "flux_values_err = ned_data['Upper limit of uncertainty']\n",
    "flux_values_err_array = np.array([flux_values_err,flux_values_err,flux_values_err,flux_values_err,flux_values_err,flux_values_err,flux_values_err,flux_values_err]).T\n",
    "\n",
    "\n",
    "xray_fluxes = np.array([2.4E-12,5.1E-12,1.4E-12,2.2E-12,5.0E-12,15.0E-12,6.7E-12,14.0E-12])\n",
    "xray_fluxes_err = np.array([0.5E-12,1E-12,0.3E-12,0.6E-12,10E-12,3E-12,2.0E-12,6E-12])\n",
    "xray_fluxes_mJy = (xray_fluxes*4.136E8/(10-2))\n",
    "xray_fluxes_err_mJy = (xray_fluxes_err*4.136E8/(10-2))\n"
   ]
  },
  {
   "cell_type": "code",
   "execution_count": 12,
   "metadata": {},
   "outputs": [
    {
     "data": {
      "text/plain": [
       "array([3.84e-08, 3.84e-08, 3.84e-08, 3.84e-08, 3.84e-08, 3.84e-08,\n",
       "       3.84e-08, 3.84e-08])"
      ]
     },
     "execution_count": 12,
     "metadata": {},
     "output_type": "execute_result"
    }
   ],
   "source": [
    "flux_values_array[0]"
   ]
  },
  {
   "cell_type": "code",
   "execution_count": 13,
   "metadata": {},
   "outputs": [
    {
     "name": "stdout",
     "output_type": "stream",
     "text": [
      "17\n",
      "(8, 17)\n"
     ]
    }
   ],
   "source": [
    "flux_array = np.array([\n",
    "    xray_fluxes_mJy*1000,\n",
    "    flux_values_array[1]*1E6,\n",
    "    flux_values_array[2]*1E6,\n",
    "    flux_values_array[3]*1E6,\n",
    "    flux_values_array[4]*1E6,\n",
    "    flux_values_array[5]*1E6,\n",
    "    flux_values_array[6]*1E6,\n",
    "    flux_values_array[7]*1E6,\n",
    "    flux_values_array[8]*1E6,\n",
    "    flux_values_array[9]*1E6,\n",
    "    flux_values_array[10]*1E6,\n",
    "    flux_values_array[11]*1E6,\n",
    "    flux_values_array[12]*1E6,\n",
    "    flux_values_array[13]*1E6,\n",
    "    flux_values_array[14]*1E6,\n",
    "    flux_values_array[16]*1E6,\n",
    "    flux_values_array[18]*1E6,\n",
    "])\n",
    "flux_array = flux_array.T\n",
    "\n",
    "flux_array_err = np.array([\n",
    "    xray_fluxes_err_mJy*1000,\n",
    "    flux_values_err_array[1]*1E6,\n",
    "    flux_values_err_array[2]*1E6,\n",
    "    flux_values_err_array[3]*1E6,\n",
    "    flux_values_err_array[4]*1E6,\n",
    "    flux_values_err_array[5]*1E6,\n",
    "    flux_values_err_array[6]*1E6,\n",
    "    flux_values_err_array[7]*1E6,\n",
    "    flux_values_err_array[8]*1E6,\n",
    "    flux_values_err_array[9]*1E6,\n",
    "    flux_values_err_array[10]*1E6,\n",
    "    flux_values_err_array[11]*1E6,\n",
    "    flux_values_err_array[12]*1E6,\n",
    "    flux_values_err_array[13]*1E6,\n",
    "    flux_values_err_array[14]*1E6,\n",
    "    flux_values_err_array[16]*1E6,\n",
    "    flux_values_array[18]*1E6*0.45,\n",
    "])\n",
    "flux_array_err = flux_array_err.T\n",
    "\n",
    "z_array = np.ones(np.shape(xray_fluxes))*0.44\n",
    "\n",
    "model_ids = np.array(['Model1','Model2','Model3','Model4','Model5','Model6','Model7','Model8'])\n",
    "\n",
    "filter_names = np.array(['Fx_hard','FLUX_GALEX_FUV','FLUX_GALEX_NUV','U','G','R','Z','JVHS','H_FLUX_APER2','Ks_FLUX_APER2','W1','W2','SPLASH_3_FLUX','W3','W4','IRAS3','FLUX_160',])\n",
    "\n",
    "print(len(filter_names))\n",
    "print(flux_array.shape)"
   ]
  },
  {
   "cell_type": "code",
   "execution_count": 14,
   "metadata": {},
   "outputs": [],
   "source": [
    "cigale_name = 'AHA_sample_FINAL2/Weaver_CIGALE.mag'\n",
    "# cigale_name = 'test_FIR_cosmos3.mag'\n",
    "inf = open(f'../xcigale/data_input/{cigale_name}', 'w')\n",
    "header = np.asarray(['# id', 'redshift'])\n",
    "cigale_filters = Filters('filter_list.dat').pull_filter(filter_names, 'xcigale name')\n",
    "for i in range(len(cigale_filters)):\n",
    "    header = np.append(header, cigale_filters[i])\n",
    "    header = np.append(header, cigale_filters[i]+'_err')\n",
    "np.savetxt(inf, header, fmt='%s', delimiter='    ', newline=' ')\n",
    "inf.close()"
   ]
  },
  {
   "cell_type": "code",
   "execution_count": 15,
   "metadata": {},
   "outputs": [],
   "source": [
    "\n",
    "for i in range(len(model_ids)):\n",
    "\n",
    "    source = AGN(model_ids[i],z_array[i],filter_names,flux_array[i],flux_array_err[i])\n",
    "    source.MakeSED()\n",
    "\n",
    "    make_dict = source.MakeDict(filter_names,flux_array[i])\n",
    "    make_dict_err = source.MakeDict(filter_names,flux_array_err[i])\n",
    "\n",
    "    f1 = source.Find_value(1.0)\n",
    "\n",
    "    # ix, iy = source.Int_SED(xmin=1E-1, xmax=1E10)\n",
    "    # wfir, ffir, f100 = source.Int_SED_FIR(Find_value=100.0,discreet=True)\n",
    "    # Id, redshift, w, f, frac_err = source.pull_plot_info(norm_w=1)\n",
    "    # plot = Plotter(Id, redshift, w, f, 44.5,f1,np.nan)\n",
    "\n",
    "    # plot.PlotSED()\n",
    "\n",
    "    source.write_cigale_file2(cigale_name, filter_names, make_dict, make_dict_err, int_fx=xray_fluxes_mJy[i], int_fx_err=xray_fluxes_err_mJy[i])\n",
    "\n"
   ]
  },
  {
   "cell_type": "code",
   "execution_count": null,
   "metadata": {},
   "outputs": [],
   "source": []
  },
  {
   "cell_type": "code",
   "execution_count": null,
   "metadata": {},
   "outputs": [],
   "source": []
  }
 ],
 "metadata": {
  "kernelspec": {
   "display_name": "py39",
   "language": "python",
   "name": "python3"
  },
  "language_info": {
   "codemirror_mode": {
    "name": "ipython",
    "version": 3
   },
   "file_extension": ".py",
   "mimetype": "text/x-python",
   "name": "python",
   "nbconvert_exporter": "python",
   "pygments_lexer": "ipython3",
   "version": "3.9.12"
  }
 },
 "nbformat": 4,
 "nbformat_minor": 2
}
